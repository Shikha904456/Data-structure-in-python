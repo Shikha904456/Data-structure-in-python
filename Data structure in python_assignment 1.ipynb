{
 "cells": [
  {
   "cell_type": "markdown",
   "metadata": {},
   "source": [
    "# Write a code to reverse a string."
   ]
  },
  {
   "cell_type": "code",
   "execution_count": 6,
   "metadata": {},
   "outputs": [
    {
     "name": "stdout",
     "output_type": "stream",
     "text": [
      "dlrow olleh\n"
     ]
    }
   ],
   "source": [
    "line= \"hello world\"\n",
    "result= line[::-1]\n",
    "print(result)"
   ]
  },
  {
   "cell_type": "markdown",
   "metadata": {},
   "source": [
    "# Write a code to count the number of vowels in a string."
   ]
  },
  {
   "cell_type": "code",
   "execution_count": 7,
   "metadata": {},
   "outputs": [
    {
     "name": "stdout",
     "output_type": "stream",
     "text": [
      "2\n"
     ]
    }
   ],
   "source": [
    "string= 'shikha'\n",
    "vowels= 'a,e,i,o,u'\n",
    "count= sum(string.count(vowel)for vowel in vowels)\n",
    "print(count)"
   ]
  },
  {
   "cell_type": "markdown",
   "metadata": {},
   "source": [
    "# Write a code to check if a given if a given string in a palindrome or not."
   ]
  },
  {
   "cell_type": "code",
   "execution_count": 8,
   "metadata": {},
   "outputs": [
    {
     "name": "stdout",
     "output_type": "stream",
     "text": [
      "1234321\n",
      "1234321\n",
      "str is palindrome number\n"
     ]
    }
   ],
   "source": [
    "str='1234321'\n",
    "num1=str[::1]\n",
    "print(num1)\n",
    "num2=str[::-1]\n",
    "print(num2)\n",
    "if num1==num2:\n",
    "    print('str is palindrome number')\n",
    "    "
   ]
  },
  {
   "cell_type": "markdown",
   "metadata": {},
   "source": [
    "# Write a code to check if two given string are anagrams of each other."
   ]
  },
  {
   "cell_type": "code",
   "execution_count": 9,
   "metadata": {},
   "outputs": [
    {
     "name": "stdout",
     "output_type": "stream",
     "text": [
      "strings are anagrams\n"
     ]
    }
   ],
   "source": [
    "str1='heart'\n",
    "str2='earth'\n",
    "if(sorted(str1)==sorted(str2)):\n",
    "    print('strings are anagrams')"
   ]
  },
  {
   "cell_type": "code",
   "execution_count": 10,
   "metadata": {},
   "outputs": [
    {
     "ename": "IndentationError",
     "evalue": "expected an indented block after function definition on line 1 (3442474768.py, line 2)",
     "output_type": "error",
     "traceback": [
      "\u001b[1;36m  Cell \u001b[1;32mIn[10], line 2\u001b[1;36m\u001b[0m\n\u001b[1;33m    if(sorted(s1)==sorted(s2)):\u001b[0m\n\u001b[1;37m    ^\u001b[0m\n\u001b[1;31mIndentationError\u001b[0m\u001b[1;31m:\u001b[0m expected an indented block after function definition on line 1\n"
     ]
    }
   ],
   "source": [
    "def check(s1,s2):\n",
    "if(sorted(s1)==sorted(s2)):\n",
    "    print('strings are anagrams')\n",
    "    else:\n",
    "        print('strings are not anagrams')\n",
    "        s1=\"listen\"\n",
    "        s2=\"silent\"\n",
    "check(s1,s2)"
   ]
  },
  {
   "cell_type": "markdown",
   "metadata": {},
   "source": [
    "# Write down to find all occurences of a given substring within another string."
   ]
  },
  {
   "cell_type": "code",
   "execution_count": null,
   "metadata": {},
   "outputs": [
    {
     "name": "stdout",
     "output_type": "stream",
     "text": [
      "0\n",
      "-1\n",
      "24\n",
      "14\n"
     ]
    }
   ],
   "source": [
    "str1= \"chemistry is intresting subject\"\n",
    "str2= \"maths is vast subject\"\n",
    "substring=\"chemistry\"\n",
    "occurence=str1.find(\"chemistry\")\n",
    "print(occurence)\n",
    "occ=str2.find('chemistry')\n",
    "print(occ)\n",
    "occ1=str1.find('subject')\n",
    "occ2=str2.find('subject')\n",
    "print(occ1)\n",
    "print(occ2)"
   ]
  },
  {
   "cell_type": "markdown",
   "metadata": {},
   "source": [
    "# Write a code to perform basic string compression using the counts of repeated characters."
   ]
  },
  {
   "cell_type": "code",
   "execution_count": null,
   "metadata": {},
   "outputs": [
    {
     "ename": "SyntaxError",
     "evalue": "invalid syntax (94646655.py, line 2)",
     "output_type": "error",
     "traceback": [
      "\u001b[0;36m  Cell \u001b[0;32mIn[13], line 2\u001b[0;36m\u001b[0m\n\u001b[0;31m    def find_duplicate_chars(string)\u001b[0m\n\u001b[0m                                    ^\u001b[0m\n\u001b[0;31mSyntaxError\u001b[0m\u001b[0;31m:\u001b[0m invalid syntax\n"
     ]
    }
   ],
   "source": [
    "string='letter'\n",
    "def find_duplicate_chars(string)\n",
    "unique_chars=set()\n",
    "duplicate_chars=set()\n",
    "for chars in string:\n",
    "    if chars in unique_chars:\n",
    "        duplicate_chars.add(char)\n",
    "        else:\n",
    "            unique_chars.add(char)\n",
    "            return(duplicate_chars)\n",
    "            "
   ]
  },
  {
   "cell_type": "markdown",
   "metadata": {},
   "source": [
    "# Write a code to convert a given string to upper case or lowercase."
   ]
  },
  {
   "cell_type": "code",
   "execution_count": null,
   "metadata": {},
   "outputs": [
    {
     "name": "stdout",
     "output_type": "stream",
     "text": [
      "SHIKHA\n",
      "shivani\n"
     ]
    }
   ],
   "source": [
    "name=\"shikha\"\n",
    "result=name.upper()\n",
    "print(result)\n",
    "name1='Shivani'\n",
    "res1=name1.lower()\n",
    "print(res1)"
   ]
  },
  {
   "cell_type": "markdown",
   "metadata": {},
   "source": [
    "# Write a code to count the number of words in a string."
   ]
  },
  {
   "cell_type": "code",
   "execution_count": null,
   "metadata": {},
   "outputs": [
    {
     "name": "stdout",
     "output_type": "stream",
     "text": [
      "7\n"
     ]
    }
   ],
   "source": [
    "s1= 'honesty'\n",
    "num_of_words=len(s1)\n",
    "print(num_of_words)\n"
   ]
  },
  {
   "cell_type": "markdown",
   "metadata": {},
   "source": [
    "# Write a code to concatenate two strings without using + operator."
   ]
  },
  {
   "cell_type": "code",
   "execution_count": null,
   "metadata": {},
   "outputs": [
    {
     "name": "stdout",
     "output_type": "stream",
     "text": [
      "first string is\n",
      "shikha\n",
      "second string is\n",
      "kumari\n",
      "concanated string is\n",
      "shikhakumari\n"
     ]
    }
   ],
   "source": [
    "string1='shikha'\n",
    "string2='kumari'\n",
    "print('first string is')\n",
    "print(string1)\n",
    "print('second string is')\n",
    "print(string2)\n",
    "concat=''.join([string1,string2])\n",
    "print('concanated string is')\n",
    "print(concat)\n"
   ]
  },
  {
   "cell_type": "code",
   "execution_count": null,
   "metadata": {},
   "outputs": [
    {
     "name": "stdout",
     "output_type": "stream",
     "text": [
      "physicswallah\n"
     ]
    }
   ],
   "source": [
    "s1='physics'\n",
    "s2='wallah'\n",
    "concat=\"\".join([s1,s2])\n",
    "print(concat)\n"
   ]
  },
  {
   "cell_type": "markdown",
   "metadata": {},
   "source": [
    "# Write a code to determine if a string has all unique characters."
   ]
  },
  {
   "cell_type": "code",
   "execution_count": null,
   "metadata": {},
   "outputs": [
    {
     "data": {
      "text/plain": [
       "{' ', 'T', 'a', 'e', 'h', 'i', 's', 't'}"
      ]
     },
     "metadata": {},
     "output_type": "display_data"
    }
   ],
   "source": [
    "s='This is a test'\n",
    "set(s)"
   ]
  },
  {
   "cell_type": "markdown",
   "metadata": {},
   "source": [
    "# Implement a code to find the second largest number in a given list of integers."
   ]
  },
  {
   "cell_type": "code",
   "execution_count": null,
   "metadata": {},
   "outputs": [
    {
     "name": "stdout",
     "output_type": "stream",
     "text": [
      "14\n"
     ]
    }
   ],
   "source": [
    "list=[2,4,8,14,18]\n",
    "list.remove(max(list))\n",
    "print(max(list))\n"
   ]
  },
  {
   "cell_type": "code",
   "execution_count": null,
   "metadata": {},
   "outputs": [],
   "source": [
    "# if duplicate integers occurs,then write a code to 2nd largest number."
   ]
  },
  {
   "cell_type": "code",
   "execution_count": null,
   "metadata": {},
   "outputs": [
    {
     "name": "stdout",
     "output_type": "stream",
     "text": [
      "60\n"
     ]
    }
   ],
   "source": [
    "l1=[10,20,20,30,40,40,50,70,60,70]\n",
    "new_list=set(l1)\n",
    "new_list.remove(max(new_list))\n",
    "print(max(new_list))"
   ]
  },
  {
   "cell_type": "markdown",
   "metadata": {},
   "source": [
    "# Write a code to reverse a list in place without using any built in reverse function."
   ]
  },
  {
   "cell_type": "markdown",
   "metadata": {},
   "source": [
    "# using slicing method in place of reverse()"
   ]
  },
  {
   "cell_type": "code",
   "execution_count": null,
   "metadata": {},
   "outputs": [
    {
     "name": "stdout",
     "output_type": "stream",
     "text": [
      "[6, 4, 3, 2]\n"
     ]
    }
   ],
   "source": [
    "list=[2,3,4,6]\n",
    "result=list[::-1]\n",
    "print(result)"
   ]
  },
  {
   "cell_type": "markdown",
   "metadata": {},
   "source": [
    "# Implement a code to find & remove duplicates from a list while preserving the original order of elements."
   ]
  },
  {
   "cell_type": "code",
   "execution_count": null,
   "metadata": {},
   "outputs": [
    {
     "data": {
      "text/plain": [
       "{10, 20, 30, 50, 60, 90}"
      ]
     },
     "execution_count": 15,
     "metadata": {},
     "output_type": "execute_result"
    }
   ],
   "source": [
    "list=[10,20,30,30,50,60,60,90,20,30,50]\n",
    "set(list)\n",
    "\n",
    "\n"
   ]
  },
  {
   "cell_type": "markdown",
   "metadata": {},
   "source": [
    "# Create a code to check if a given list is sorted or not."
   ]
  },
  {
   "cell_type": "code",
   "execution_count": null,
   "metadata": {},
   "outputs": [
    {
     "ename": "SyntaxError",
     "evalue": "invalid syntax (3977406601.py, line 6)",
     "output_type": "error",
     "traceback": [
      "\u001b[0;36m  Cell \u001b[0;32mIn[22], line 6\u001b[0;36m\u001b[0m\n\u001b[0;31m    else:\u001b[0m\n\u001b[0m    ^\u001b[0m\n\u001b[0;31mSyntaxError\u001b[0m\u001b[0;31m:\u001b[0m invalid syntax\n"
     ]
    }
   ],
   "source": [
    "import numpy as np\n",
    "test_list=[10,20,30,40,50]\n",
    "test_array=np.array(test_list)\n",
    "if np.all(np.different(test_array)>=0):\n",
    "    print(\"list is sorted\")\n",
    "    else:\n",
    "        print(\"list is not sorted\")"
   ]
  },
  {
   "cell_type": "markdown",
   "metadata": {},
   "source": [
    "# Write a code to merge two sorted lists into single sorted list."
   ]
  },
  {
   "cell_type": "code",
   "execution_count": null,
   "metadata": {},
   "outputs": [
    {
     "data": {
      "text/plain": [
       "[0, 1, 2, 3, 4, 5, 6, 7, 8, 9]"
      ]
     },
     "metadata": {},
     "output_type": "display_data"
    }
   ],
   "source": [
    "l1 = [1, 3, 4, 7]\n",
    "l2 = [0, 2, 5, 6, 8, 9]\n",
    "l1.extend(l2)\n",
    "sorted(l1) "
   ]
  },
  {
   "cell_type": "markdown",
   "metadata": {},
   "source": [
    "# another method"
   ]
  },
  {
   "cell_type": "code",
   "execution_count": null,
   "metadata": {},
   "outputs": [
    {
     "data": {
      "text/plain": [
       "[0, 1, 2, 3, 4, 5, 6, 7, 8, 9]"
      ]
     },
     "execution_count": 25,
     "metadata": {},
     "output_type": "execute_result"
    }
   ],
   "source": [
    "l1 = [1, 3, 4, 7]\n",
    "l2 = [0, 2, 5, 6, 8, 9]\n",
    "sorted(l1+l2) "
   ]
  },
  {
   "cell_type": "markdown",
   "metadata": {},
   "source": [
    "# Implement a code to find the intersection of two given lists."
   ]
  },
  {
   "cell_type": "code",
   "execution_count": null,
   "metadata": {},
   "outputs": [
    {
     "name": "stdout",
     "output_type": "stream",
     "text": [
      "{9, 11}\n"
     ]
    }
   ],
   "source": [
    "def Intersection(lst1, lst2):\n",
    "    return set(lst1).intersection(lst2)\n",
    "lst1 = [ 4, 9, 1, 17, 11, 26, 28, 28, 26, 66, 91]\n",
    "lst2 = [9, 9, 74, 21, 45, 11, 63]\n",
    "print(Intersection(lst1, lst2))"
   ]
  },
  {
   "cell_type": "markdown",
   "metadata": {},
   "source": [
    "# Create a code to find the union of two lists without duplicates."
   ]
  },
  {
   "cell_type": "code",
   "execution_count": null,
   "metadata": {},
   "outputs": [
    {
     "name": "stdout",
     "output_type": "stream",
     "text": [
      "[23, 15, 2, 14, 14, 16, 20, 52, 2, 48, 15, 12, 26, 32, 47, 54]\n"
     ]
    }
   ],
   "source": [
    "def Union(lst1, lst2):\n",
    "    final_list = lst1 + lst2\n",
    "    return final_list\n",
    "lst1 = [23, 15, 2, 14, 14, 16, 20 ,52]\n",
    "lst2 = [2, 48, 15, 12, 26, 32, 47, 54]\n",
    "print(Union(lst1, lst2))"
   ]
  },
  {
   "cell_type": "markdown",
   "metadata": {},
   "source": [
    "# Write a code to shuffle a given list randomly without using any built in shuffle functions."
   ]
  },
  {
   "cell_type": "code",
   "execution_count": null,
   "metadata": {},
   "outputs": [
    {
     "name": "stdout",
     "output_type": "stream",
     "text": [
      "Original list: [1, 2, 3, 4, 5]\n",
      "Shuffled list: [1, 4, 3, 2, 5]\n"
     ]
    }
   ],
   "source": [
    "import random\n",
    " \n",
    "my_list = [1, 2, 3, 4, 5]\n",
    " \n",
    "shuffled_list = sorted(my_list, key=lambda x: random.random())\n",
    " \n",
    "print(\"Original list:\", my_list)\n",
    "print(\"Shuffled list:\", shuffled_list)"
   ]
  },
  {
   "cell_type": "markdown",
   "metadata": {},
   "source": [
    "# Create a code that define two sets of integers. Then print the union ,intersection & difference of these two sets."
   ]
  },
  {
   "cell_type": "code",
   "execution_count": null,
   "metadata": {},
   "outputs": [
    {
     "name": "stdout",
     "output_type": "stream",
     "text": [
      "Union:  {1, 2, 3, 5, 8, 10, 50, 20}\n",
      "intersection:  {1, 2, 10, 5}\n",
      "difference:  {8, 3, 20}\n"
     ]
    }
   ],
   "source": [
    "set1={1,2,3,5,8,10,20}\n",
    "set2={50,10,2,5,1}\n",
    "print(\"Union: \",set1|set2)\n",
    "print(\"intersection: \",set1 & set2)\n",
    "print(\"difference: \",set1 - set2)\n"
   ]
  },
  {
   "cell_type": "markdown",
   "metadata": {},
   "source": [
    "# Develop a code thats prompt the user to input two two sets of strings,.Then,print the elements that are present in the first set but not in second set."
   ]
  },
  {
   "cell_type": "code",
   "execution_count": null,
   "metadata": {},
   "outputs": [
    {
     "name": "stdout",
     "output_type": "stream",
     "text": [
      "difference:  {'sunil', 'shivani', 'ayush', 'shikha', 'sushil', 'harshit'}\n"
     ]
    }
   ],
   "source": [
    "s1={'ayush','shikha','shivani','sushil','harshit','sunil'}\n",
    "s2={'sangeeta','sunita,''shikha','shivani''ayush'}\n",
    "print('difference: ',s1 - s2)"
   ]
  },
  {
   "cell_type": "markdown",
   "metadata": {},
   "source": [
    "# write a code that prompts the user to input two sets of characters,Then print the union of these two sets."
   ]
  },
  {
   "cell_type": "code",
   "execution_count": null,
   "metadata": {},
   "outputs": [
    {
     "name": "stdout",
     "output_type": "stream",
     "text": [
      "union:  {'sunil', 'shivani', 'sangeeta', 'ayush', 'sunita,shikha', 'shivaniayush', 'shikha', 'sushil', 'harshit'}\n"
     ]
    }
   ],
   "source": [
    "s1={'ayush','shikha','shivani','sushil','harshit','sunil'}\n",
    "s2={'sangeeta','sunita,''shikha','shivani''ayush'}\n",
    "print('union: ',s1|s2)"
   ]
  },
  {
   "cell_type": "markdown",
   "metadata": {},
   "source": [
    "# Develop a code that prompts the user to input two sets of strings. Then,print the symmetric difference of two sets."
   ]
  },
  {
   "cell_type": "code",
   "execution_count": null,
   "metadata": {},
   "outputs": [
    {
     "name": "stdout",
     "output_type": "stream",
     "text": [
      "symmetric difference:  {'sunil', 'shivani', 'sangeeta', 'ayush', 'sunita,shikha', 'shivaniayush', 'shikha', 'sushil', 'harshit'}\n"
     ]
    }
   ],
   "source": [
    "s1={'ayush','shikha','shivani','sushil','harshit','sunil'}\n",
    "s2={'sangeeta','sunita,''shikha','shivani''ayush'}\n",
    "print('symmetric difference: ',s1^s2)"
   ]
  },
  {
   "cell_type": "markdown",
   "metadata": {},
   "source": [
    "# Write a code that takes two tuples as input & returns a new tuple containing elements that are common to both tuples."
   ]
  },
  {
   "cell_type": "code",
   "execution_count": null,
   "metadata": {},
   "outputs": [
    {
     "ename": "IndentationError",
     "evalue": "unexpected indent (3024877071.py, line 2)",
     "output_type": "error",
     "traceback": [
      "\u001b[0;36m  Cell \u001b[0;32mIn[16], line 2\u001b[0;36m\u001b[0m\n\u001b[0;31m    B = (1, 2, 2.3, 4, 8)\u001b[0m\n\u001b[0m    ^\u001b[0m\n\u001b[0;31mIndentationError\u001b[0m\u001b[0;31m:\u001b[0m unexpected indent\n"
     ]
    }
   ],
   "source": [
    "A = (1,2,3,4)\n",
    " B = (1, 2, 2.3, 4, 8)\n",
    "result= tuple(set(A) & set(B))\n",
    "print(result)\n",
    "\n",
    "\n",
    "\n"
   ]
  },
  {
   "cell_type": "markdown",
   "metadata": {},
   "source": [
    "# Create a code that prompts the user to enter two sets of integers seperated by commas . Then print intersection of these two sets."
   ]
  },
  {
   "cell_type": "markdown",
   "metadata": {},
   "source": [
    "another method by csv file"
   ]
  },
  {
   "cell_type": "code",
   "execution_count": null,
   "metadata": {},
   "outputs": [
    {
     "name": "stdout",
     "output_type": "stream",
     "text": [
      "Set:  ['2', '3', '6', '9']\n"
     ]
    }
   ],
   "source": [
    "values= input(\"Input some comma seperated-numbers: \")\n",
    "set=values.split(\",\")\n",
    "print('Set: ',set)\n",
    "\n"
   ]
  },
  {
   "cell_type": "markdown",
   "metadata": {},
   "source": [
    "# Write a code to concatenate two tuples. The function should take two tuples as input & return a new tuple containing elements from both input tuples."
   ]
  },
  {
   "cell_type": "code",
   "execution_count": null,
   "metadata": {},
   "outputs": [
    {
     "name": "stdout",
     "output_type": "stream",
     "text": [
      "(1, 'pwskills', 2.5, 3, 2, 2.5, 'ajay')\n"
     ]
    }
   ],
   "source": [
    "tuple1=(1,'pwskills',2.5,3)\n",
    "tuple2=(2,2.5,'ajay')\n",
    "result=tuple1+tuple2\n",
    "print(result)"
   ]
  },
  {
   "cell_type": "markdown",
   "metadata": {},
   "source": [
    "# Write a code that takes a list of words as input & returns a dictionary where the keys are unique words & values are frequencies of those words in input."
   ]
  },
  {
   "cell_type": "code",
   "execution_count": null,
   "metadata": {},
   "outputs": [
    {
     "name": "stdout",
     "output_type": "stream",
     "text": [
      "{1: 5, 5: 2, 3: 3, 4: 3, 2: 4}\n"
     ]
    }
   ],
   "source": [
    "\n",
    "def CountFrequency(my_list):\n",
    "\n",
    "    count = {}\n",
    "    for i in [1, 1, 1, 5, 5, 3, 1, 3, 3, 1, 4, 4, 4, 2, 2, 2, 2]:\n",
    "        count[i] = count.get(i, 0) + 1\n",
    "    return count\n",
    " \n",
    "if __name__ == \"__main__\":\n",
    "    my_list = [1, 1, 1, 5, 5, 3, 1, 3, 3, 1, 4, 4, 4, 2, 2, 2, 2]\n",
    "    print(CountFrequency(my_list))"
   ]
  },
  {
   "cell_type": "markdown",
   "metadata": {},
   "source": [
    "# Write a code that takes two dictionaries as input & merges them into a single dictionary. If there are common keys, the values should be added together."
   ]
  },
  {
   "cell_type": "code",
   "execution_count": null,
   "metadata": {},
   "outputs": [
    {
     "name": "stdout",
     "output_type": "stream",
     "text": [
      "{'Geeks': 100, 'geek': 200, 'for': 325}\n"
     ]
    }
   ],
   "source": [
    "dict1 = {'a': 12, 'for': 25, 'c': 9}\n",
    "dict2 = {'Geeks': 100, 'geek': 200, 'for': 300}\n",
    " \n",
    "for key in dict2:\n",
    "    if key in dict1:\n",
    "        dict2[key] = dict2[key] + dict1[key]\n",
    "    else:\n",
    "        pass\n",
    "         \n",
    "print(dict2)"
   ]
  },
  {
   "cell_type": "markdown",
   "metadata": {},
   "source": [
    "# write a code that takes a dictionary as input & returns a sorted version of it based on the values, You can choose whether to sort in ascending order or descending order"
   ]
  },
  {
   "cell_type": "code",
   "execution_count": null,
   "metadata": {},
   "outputs": [
    {
     "name": "stdout",
     "output_type": "stream",
     "text": [
      "Original dictionary :  {1: 2, 3: 4, 4: 3, 2: 1, 0: 0}\n",
      "Dictionary in ascending order by value :  [(0, 0), (2, 1), (1, 2), (4, 3), (3, 4)]\n",
      "Dictionary in descending order by value :  {3: 4, 4: 3, 1: 2, 2: 1, 0: 0}\n"
     ]
    }
   ],
   "source": [
    "import operator\n",
    "d = {1: 2, 3: 4, 4: 3, 2: 1, 0: 0}\n",
    "print('Original dictionary : ',d)\n",
    "sorted_d = sorted(d.items(), key=operator.itemgetter(1))\n",
    "print('Dictionary in ascending order by value : ',sorted_d)\n",
    "sorted_d = dict( sorted(d.items(), key=operator.itemgetter(1), reverse=True))\n",
    "print('Dictionary in descending order by value : ',sorted_d)  "
   ]
  },
  {
   "cell_type": "markdown",
   "metadata": {},
   "source": [
    "# Write a code that inverts a dictionary, swapping keys and values. Ensure that inverted dictionary correctly handles cases where multiple keys have the same value by storing the keys as a list in the invetred dictionary."
   ]
  },
  {
   "cell_type": "code",
   "execution_count": null,
   "metadata": {},
   "outputs": [
    {
     "name": "stdout",
     "output_type": "stream",
     "text": [
      "Original dictionary is : \n",
      "{'A': 67, 'B': 23, 'C': 45, 'E': 12, 'F': 69, 'G': 67, 'H': 23}\n",
      "\n",
      "Dictionary after swapping is :  \n",
      "keys: values\n",
      "67  : ['A', 'G']\n",
      "23  : ['B', 'H']\n",
      "45  : ['C']\n",
      "12  : ['E']\n",
      "69  : ['F']\n"
     ]
    }
   ],
   "source": [
    "old_dict = {'A': 67, 'B': 23, 'C': 45, 'E': 12, 'F': 69, 'G': 67, 'H': 23}\n",
    "print (\"Original dictionary is : \")\n",
    "print(old_dict) \n",
    "print()\n",
    "new_dict = {}\n",
    "for key, value in old_dict.items():\n",
    "   if value in new_dict:\n",
    "       new_dict[value].append(key)\n",
    "   else:\n",
    "       new_dict[value]=[key]\n",
    "print (\"Dictionary after swapping is :  \") \n",
    "print(\"keys: values\")\n",
    "for i in new_dict:\n",
    "    print(i, \" :\", new_dict[i])"
   ]
  }
 ],
 "metadata": {
  "kernelspec": {
   "display_name": "Python 3.8.10 64-bit",
   "language": "python",
   "name": "python3"
  },
  "language_info": {
   "codemirror_mode": {
    "name": "ipython",
    "version": 3
   },
   "file_extension": ".py",
   "mimetype": "text/x-python",
   "name": "python",
   "nbconvert_exporter": "python",
   "pygments_lexer": "ipython3",
   "version": "3.12.3"
  },
  "orig_nbformat": 4,
  "vscode": {
   "interpreter": {
    "hash": "e7370f93d1d0cde622a1f8e1c04877d8463912d04d973331ad4851f04de6915a"
   }
  }
 },
 "nbformat": 4,
 "nbformat_minor": 2
}
