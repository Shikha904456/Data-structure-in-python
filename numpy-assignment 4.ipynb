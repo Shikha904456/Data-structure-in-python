{
 "cells": [
  {
   "cell_type": "code",
   "execution_count": 82,
   "metadata": {},
   "outputs": [
    {
     "name": "stdout",
     "output_type": "stream",
     "text": [
      "Array: [0 1 2 3 4 5]\n",
      "Data type: int32\n"
     ]
    }
   ],
   "source": [
    "# Create a NumPy array 'arr' of integers from 0 to 5 and print its data type:\n",
    "\n",
    "import numpy as np\n",
    "\n",
    "arr = np.arange(6)\n",
    "print(\"Array:\", arr)\n",
    "print(\"Data type:\", arr.dtype)"
   ]
  },
  {
   "cell_type": "code",
   "execution_count": 83,
   "metadata": {},
   "outputs": [
    {
     "name": "stdout",
     "output_type": "stream",
     "text": [
      "Is the array float64? True\n"
     ]
    }
   ],
   "source": [
    "# Given a NumPy array 'arr', check if its data type is float64:\n",
    "arr = np.array([1.5, 2.6, 3.7])\n",
    "is_float64 = arr.dtype == np.float64\n",
    "print(\"Is the array float64?\", is_float64)"
   ]
  },
  {
   "cell_type": "code",
   "execution_count": 84,
   "metadata": {},
   "outputs": [
    {
     "name": "stdout",
     "output_type": "stream",
     "text": [
      "Array: [1.+2.j 3.+4.j 5.+6.j]\n",
      "Data type: complex128\n"
     ]
    }
   ],
   "source": [
    "# Create a NumPy array 'arr' with a data type of complex128 containing three complex numbers:\n",
    "\n",
    "arr = np.array([1+2j, 3+4j, 5+6j], dtype=np.complex128)\n",
    "print(\"Array:\", arr)\n",
    "print(\"Data type:\", arr.dtype)"
   ]
  },
  {
   "cell_type": "code",
   "execution_count": 85,
   "metadata": {},
   "outputs": [
    {
     "name": "stdout",
     "output_type": "stream",
     "text": [
      "Original array: [1 2 3 4 5]\n",
      "Converted array: [1. 2. 3. 4. 5.]\n",
      "Data type of converted array: float32\n"
     ]
    }
   ],
   "source": [
    "# Convert an existing NumPy array 'arr' of integers to float32 data type:\n",
    "\n",
    "arr = np.array([1, 2, 3, 4, 5])\n",
    "arr_float32 = arr.astype(np.float32)\n",
    "print(\"Original array:\", arr)\n",
    "print(\"Converted array:\", arr_float32)\n",
    "print(\"Data type of converted array:\", arr_float32.dtype)"
   ]
  },
  {
   "cell_type": "code",
   "execution_count": 86,
   "metadata": {},
   "outputs": [
    {
     "name": "stdout",
     "output_type": "stream",
     "text": [
      "Original array: [1.1 2.2 3.3]\n",
      "Converted array: [1.1 2.2 3.3]\n",
      "Data type of converted array: float32\n"
     ]
    }
   ],
   "source": [
    "# Given a NumPy array 'arr' with float64 data type, convert it to float32 to reduce decimal precision:\n",
    "\n",
    "\n",
    "arr = np.array([1.1, 2.2, 3.3], dtype=np.float64)\n",
    "arr_float32 = arr.astype(np.float32)\n",
    "print(\"Original array:\", arr)\n",
    "print(\"Converted array:\", arr_float32)\n",
    "print(\"Data type of converted array:\", arr_float32.dtype)"
   ]
  },
  {
   "cell_type": "code",
   "execution_count": 87,
   "metadata": {},
   "outputs": [
    {
     "name": "stdout",
     "output_type": "stream",
     "text": [
      "((5,), 5, dtype('int32'))\n"
     ]
    }
   ],
   "source": [
    "# Write a function array_attributes that takes a NumPy array as input and returns its shape, size, and data type:\n",
    "\n",
    "def array_attributes(arr):\n",
    "    return arr.shape, arr.size, arr.dtype\n",
    "\n",
    "arr = np.array([1, 2, 3, 4, 5])\n",
    "print(array_attributes(arr))"
   ]
  },
  {
   "cell_type": "code",
   "execution_count": 88,
   "metadata": {},
   "outputs": [
    {
     "name": "stdout",
     "output_type": "stream",
     "text": [
      "2\n"
     ]
    }
   ],
   "source": [
    "# Create a function array_dimension that takes a NumPy array as input and returns its dimensionality:\n",
    "\n",
    "def array_dimension(arr):\n",
    "    return arr.ndim\n",
    "\n",
    "arr = np.array([[1, 2, 3], [4, 5, 6]])\n",
    "print(array_dimension(arr))"
   ]
  },
  {
   "cell_type": "code",
   "execution_count": 89,
   "metadata": {},
   "outputs": [
    {
     "name": "stdout",
     "output_type": "stream",
     "text": [
      "(4, 20)\n"
     ]
    }
   ],
   "source": [
    "# Design a function item_size_info that takes a NumPy array as input and returns the item size and the total size in bytes:\n",
    "\n",
    "def item_size_info(arr):\n",
    "    return arr.itemsize, arr.nbytes\n",
    "\n",
    "arr = np.array([1, 2, 3, 4, 5])\n",
    "print(item_size_info(arr))"
   ]
  },
  {
   "cell_type": "code",
   "execution_count": 90,
   "metadata": {},
   "outputs": [
    {
     "name": "stdout",
     "output_type": "stream",
     "text": [
      "(12, 4)\n"
     ]
    }
   ],
   "source": [
    "# Create a function array_strides that takes a NumPy array as input and returns the strides of the array:\n",
    "\n",
    "def array_strides(arr):\n",
    "    return arr.strides\n",
    "\n",
    "arr = np.array([[1, 2, 3], [4, 5, 6]])\n",
    "print(array_strides(arr))"
   ]
  },
  {
   "cell_type": "code",
   "execution_count": 91,
   "metadata": {},
   "outputs": [
    {
     "name": "stdout",
     "output_type": "stream",
     "text": [
      "((2, 3), (12, 4))\n"
     ]
    }
   ],
   "source": [
    "# Design a function shape_stride_relationship that takes a NumPy array as input and returns the shape and strides of the array:\n",
    "\n",
    "def shape_stride_relationship(arr):\n",
    "    return arr.shape, arr.strides\n",
    "\n",
    "arr = np.array([[1, 2, 3], [4, 5, 6]])\n",
    "print(shape_stride_relationship(arr))\n"
   ]
  },
  {
   "cell_type": "code",
   "execution_count": 92,
   "metadata": {},
   "outputs": [
    {
     "name": "stdout",
     "output_type": "stream",
     "text": [
      "[0. 0. 0. 0. 0.]\n"
     ]
    }
   ],
   "source": [
    "# Create a function create_zeros_array that takes an integer n as input and returns a NumPy array of zeros with n elements:\n",
    "\n",
    "def create_zeros_array(n):\n",
    "    return np.zeros(n)\n",
    "\n",
    "print(create_zeros_array(5))"
   ]
  },
  {
   "cell_type": "code",
   "execution_count": 93,
   "metadata": {},
   "outputs": [
    {
     "name": "stdout",
     "output_type": "stream",
     "text": [
      "[[1. 1. 1. 1.]\n",
      " [1. 1. 1. 1.]\n",
      " [1. 1. 1. 1.]]\n"
     ]
    }
   ],
   "source": [
    "# Write a function create_ones_matrix that takes integers rows and cols as inputs and generates a 2D NumPy array filled with ones of size rows x cols:\n",
    "\n",
    "def create_ones_matrix(rows, cols):\n",
    "    return np.ones((rows, cols))\n",
    "\n",
    "print(create_ones_matrix(3, 4))"
   ]
  },
  {
   "cell_type": "code",
   "execution_count": 94,
   "metadata": {},
   "outputs": [
    {
     "name": "stdout",
     "output_type": "stream",
     "text": [
      "[1 3 5 7 9]\n"
     ]
    }
   ],
   "source": [
    "# Write a function generate_range_array that takes three integers start, stop, and step as arguments and creates a NumPy array with a range starting from start, ending at stop (exclusive), and with the specified step:\n",
    "\n",
    "def generate_range_array(start, stop, step):\n",
    "    return np.arange(start, stop, step)\n",
    "\n",
    "print(generate_range_array(1, 10, 2))"
   ]
  },
  {
   "cell_type": "code",
   "execution_count": 95,
   "metadata": {},
   "outputs": [
    {
     "name": "stdout",
     "output_type": "stream",
     "text": [
      "[0.   0.25 0.5  0.75 1.  ]\n"
     ]
    }
   ],
   "source": [
    "# Design a function generate_linear_space that takes two floats start, stop, and an integer num as arguments and generates a NumPy array with num equally spaced values between start and stop (inclusive):\n",
    "\n",
    "def generate_linear_space(start, stop, num):\n",
    "    return np.linspace(start, stop, num)\n",
    "\n",
    "print(generate_linear_space(0.0, 1.0, 5))"
   ]
  },
  {
   "cell_type": "code",
   "execution_count": 96,
   "metadata": {},
   "outputs": [
    {
     "name": "stdout",
     "output_type": "stream",
     "text": [
      "[[1. 0. 0. 0.]\n",
      " [0. 1. 0. 0.]\n",
      " [0. 0. 1. 0.]\n",
      " [0. 0. 0. 1.]]\n"
     ]
    }
   ],
   "source": [
    "# Create a function create_identity_matrix that takes an integer n as input and generates a square identity matrix of size n x n using numpy.eye:\n",
    "\n",
    "def create_identity_matrix(n):\n",
    "    return np.eye(n)\n",
    "\n",
    "print(create_identity_matrix(4))"
   ]
  },
  {
   "cell_type": "code",
   "execution_count": 97,
   "metadata": {},
   "outputs": [
    {
     "name": "stdout",
     "output_type": "stream",
     "text": [
      "[1 2 3 4 5]\n"
     ]
    }
   ],
   "source": [
    "# Write a function that takes a Python list and converts it into a NumPy array:\n",
    "\n",
    "def list_to_array(lst):\n",
    "    return np.array(lst)\n",
    "\n",
    "print(list_to_array([1, 2, 3, 4, 5]))"
   ]
  },
  {
   "cell_type": "code",
   "execution_count": 98,
   "metadata": {},
   "outputs": [
    {
     "name": "stdout",
     "output_type": "stream",
     "text": [
      "Original array: [1 2 3 4 5]\n",
      "View of the array: [1 2 3 4 5]\n"
     ]
    }
   ],
   "source": [
    "# Create a NumPy array and demonstrate the use of numpy.view to create a new array object with the same data:\n",
    "\n",
    "arr = np.array([1, 2, 3, 4, 5])\n",
    "arr_view = arr.view()\n",
    "print(\"Original array:\", arr)\n",
    "print(\"View of the array:\", arr_view)"
   ]
  },
  {
   "cell_type": "code",
   "execution_count": 99,
   "metadata": {},
   "outputs": [
    {
     "name": "stdout",
     "output_type": "stream",
     "text": [
      "[[1 2]\n",
      " [3 4]\n",
      " [5 6]\n",
      " [7 8]]\n",
      "[[1 2 5 6]\n",
      " [3 4 7 8]]\n"
     ]
    }
   ],
   "source": [
    "# Write a function that takes two NumPy arrays and concatenates them along a specified axis:\n",
    "\n",
    "def concatenate_arrays(arr1, arr2, axis):\n",
    "    return np.concatenate((arr1, arr2), axis=axis)\n",
    "\n",
    "arr1 = np.array([[1, 2], [3, 4]])\n",
    "arr2 = np.array([[5, 6], [7, 8]])\n",
    "print(concatenate_arrays(arr1, arr2, axis=0))\n",
    "print(concatenate_arrays(arr1, arr2, axis=1))"
   ]
  },
  {
   "cell_type": "code",
   "execution_count": 100,
   "metadata": {},
   "outputs": [
    {
     "name": "stdout",
     "output_type": "stream",
     "text": [
      "[[1 2 5]\n",
      " [3 4 6]]\n"
     ]
    }
   ],
   "source": [
    "# Create two NumPy arrays with different shapes and concatenate them horizontally using numpy.concatenate:\n",
    "\n",
    "arr1 = np.array([[1, 2], [3, 4]])\n",
    "arr2 = np.array([[5, 6]])\n",
    "result = np.concatenate((arr1, arr2.T), axis=1)\n",
    "print(result)"
   ]
  },
  {
   "cell_type": "code",
   "execution_count": 101,
   "metadata": {},
   "outputs": [
    {
     "name": "stdout",
     "output_type": "stream",
     "text": [
      "[[1 2 3]\n",
      " [4 5 6]\n",
      " [7 8 9]]\n"
     ]
    }
   ],
   "source": [
    "# Write a function that vertically stacks multiple NumPy arrays given as a list:\n",
    "\n",
    "def vertical_stack(arr_list):\n",
    "    return np.vstack(arr_list)\n",
    "\n",
    "arr1 = np.array([1, 2, 3])\n",
    "arr2 = np.array([4, 5, 6])\n",
    "arr3 = np.array([7, 8, 9])\n",
    "print(vertical_stack([arr1, arr2, arr3]))"
   ]
  },
  {
   "cell_type": "code",
   "execution_count": 102,
   "metadata": {},
   "outputs": [
    {
     "name": "stdout",
     "output_type": "stream",
     "text": [
      "[1 3 5 7 9]\n"
     ]
    }
   ],
   "source": [
    "# Write a Python function using NumPy to create an array of integers within a specified range (inclusive) with a given step size:\n",
    "\n",
    "def create_range_array(start, end, step):\n",
    "    return np.arange(start, end + 1, step)\n",
    "\n",
    "print(create_range_array(1, 10, 2))"
   ]
  },
  {
   "cell_type": "code",
   "execution_count": 103,
   "metadata": {},
   "outputs": [
    {
     "name": "stdout",
     "output_type": "stream",
     "text": [
      "[0.         0.11111111 0.22222222 0.33333333 0.44444444 0.55555556\n",
      " 0.66666667 0.77777778 0.88888889 1.        ]\n"
     ]
    }
   ],
   "source": [
    "# Write a Python function using NumPy to generate an array of 10 equally spaced values between 0 and 1 (inclusive):\n",
    "\n",
    "def generate_equal_spaced_array():\n",
    "    return np.linspace(0, 1, 10)\n",
    "\n",
    "print(generate_equal_spaced_array())"
   ]
  },
  {
   "cell_type": "code",
   "execution_count": 104,
   "metadata": {},
   "outputs": [
    {
     "name": "stdout",
     "output_type": "stream",
     "text": [
      "[   1.            5.62341325   31.6227766   177.827941   1000.        ]\n"
     ]
    }
   ],
   "source": [
    "# Write a Python function using NumPy to create an array of 5 logarithmically spaced values between 1 and 1000 (inclusive):\n",
    "\n",
    "def generate_log_spaced_array():\n",
    "    return np.logspace(0, 3, 5)\n",
    "\n",
    "print(generate_log_spaced_array())"
   ]
  },
  {
   "cell_type": "code",
   "execution_count": 105,
   "metadata": {},
   "outputs": [
    {
     "name": "stdout",
     "output_type": "stream",
     "text": [
      "    A   B   C\n",
      "0  76  60  45\n",
      "1  44  20   5\n",
      "2  68  31  23\n",
      "3  11   7  83\n",
      "4  27  39  30\n"
     ]
    }
   ],
   "source": [
    "# Create a Pandas DataFrame using a NumPy array that contains 5 rows and 3 columns, where the values are random integers between 1 and 100:\n",
    "\n",
    "import pandas as pd\n",
    "\n",
    "arr = np.random.randint(1, 101, size=(5, 3))\n",
    "df = pd.DataFrame(arr, columns=['A', 'B', 'C'])\n",
    "print(df)"
   ]
  },
  {
   "cell_type": "code",
   "execution_count": 106,
   "metadata": {},
   "outputs": [
    {
     "name": "stdout",
     "output_type": "stream",
     "text": [
      "   A  B\n",
      "0  1 -4\n",
      "1  0  5\n",
      "2  3 -6\n"
     ]
    }
   ],
   "source": [
    "# Write a function that takes a Pandas DataFrame and replaces all negative values in a specific column with zeros. Use NumPy operations within the Pandas DataFrame:\n",
    "\n",
    "def replace_negative_with_zero(df, column_name):\n",
    "    df[column_name] = np.where(df[column_name] < 0, 0, df[column_name])\n",
    "    return df\n",
    "\n",
    "data = {'A': [1, -2, 3], 'B': [-4, 5, -6]}\n",
    "df = pd.DataFrame(data)\n",
    "print(replace_negative_with_zero(df, 'A'))"
   ]
  },
  {
   "cell_type": "code",
   "execution_count": 107,
   "metadata": {},
   "outputs": [
    {
     "name": "stdout",
     "output_type": "stream",
     "text": [
      "3rd element: 30\n"
     ]
    }
   ],
   "source": [
    "# Access the 3rd element from the given NumPy array. arr = np.array([10, 20, 30, 40, 50]):\n",
    "\n",
    "arr = np.array([10, 20, 30, 40, 50])\n",
    "print(\"3rd element:\", arr[2])"
   ]
  },
  {
   "cell_type": "code",
   "execution_count": 108,
   "metadata": {},
   "outputs": [
    {
     "name": "stdout",
     "output_type": "stream",
     "text": [
      "Element at index (1, 2): 6\n"
     ]
    }
   ],
   "source": [
    "# Retrieve the element at index (1, 2) from the 2D NumPy array arr_2d = np.array([[1, 2, 3], [4, 5, 6], [7, 8, 9]]):\n",
    "\n",
    "arr_2d = np.array([[1, 2, 3], [4, 5, 6], [7, 8, 9]])\n",
    "print(\"Element at index (1, 2):\", arr_2d[1, 2])"
   ]
  },
  {
   "cell_type": "code",
   "execution_count": 109,
   "metadata": {},
   "outputs": [
    {
     "name": "stdout",
     "output_type": "stream",
     "text": [
      "Elements greater than 5: [ 8 10  7]\n"
     ]
    }
   ],
   "source": [
    "# Using boolean indexing, extract elements greater than 5 from the given NumPy array arr = np.array([3, 8, 2, 10, 5, 7]):\n",
    "\n",
    "arr = np.array([3, 8, 2, 10, 5, 7])\n",
    "print(\"Elements greater than 5:\", arr[arr > 5])"
   ]
  },
  {
   "cell_type": "code",
   "execution_count": 110,
   "metadata": {},
   "outputs": [
    {
     "name": "stdout",
     "output_type": "stream",
     "text": [
      "Elements from index 2 to 5: [3 4 5 6]\n"
     ]
    }
   ],
   "source": [
    "# Perform basic slicing to extract elements from index 2 to 5 (inclusive) from the given NumPy array arr = np.array([1, 2, 3, 4, 5, 6, 7, 8, 9]):\n",
    "\n",
    "arr = np.array([1, 2, 3, 4, 5, 6, 7, 8, 9])\n",
    "print(\"Elements from index 2 to 5:\", arr[2:6])"
   ]
  },
  {
   "cell_type": "code",
   "execution_count": 111,
   "metadata": {},
   "outputs": [
    {
     "name": "stdout",
     "output_type": "stream",
     "text": [
      "Sub-array [[2, 3], [5, 6]]: [[2 3]\n",
      " [5 6]]\n"
     ]
    }
   ],
   "source": [
    "# Slice the 2D NumPy array to extract the sub-array [[2, 3], [5, 6]] from the given array arr_2d = np.array([[1, 2, 3], [4, 5, 6], [7, 8, 9]]):\n",
    "\n",
    "arr_2d = np.array([[1, 2, 3], [4, 5, 6], [7, 8, 9]])\n",
    "sub_array = arr_2d[0:2, 1:3]\n",
    "print(\"Sub-array [[2, 3], [5, 6]]:\", sub_array)"
   ]
  },
  {
   "cell_type": "code",
   "execution_count": 112,
   "metadata": {},
   "outputs": [
    {
     "name": "stdout",
     "output_type": "stream",
     "text": [
      "Extracted elements: [3 4 8]\n"
     ]
    }
   ],
   "source": [
    "# Extract elements in a specific order from a 2D array based on indices\n",
    "\n",
    "import numpy as np\n",
    "\n",
    "def indices(arr, row_indices, col_indices):\n",
    "    return arr[row_indices, col_indices]\n",
    "\n",
    "arr = np.array([[1, 2, 3], [4, 5, 6], [7, 8, 9]])\n",
    "row_indices = np.array([0, 1, 2])\n",
    "col_indices = np.array([2, 0, 1])\n",
    "\n",
    "print(\"Extracted elements:\", indices(arr, row_indices, col_indices))"
   ]
  },
  {
   "cell_type": "code",
   "execution_count": 113,
   "metadata": {},
   "outputs": [
    {
     "name": "stdout",
     "output_type": "stream",
     "text": [
      "Filtered elements: [7 9]\n"
     ]
    }
   ],
   "source": [
    "# Filter elements greater than a threshold from a 1D array\n",
    "\n",
    "def filter_greater_than(arr, threshold):\n",
    "    return arr[arr > threshold]\n",
    "\n",
    "arr = np.array([1, 3, 5, 7, 9])\n",
    "threshold = 5\n",
    "\n",
    "print(\"Filtered elements:\", filter_greater_than(arr, threshold))"
   ]
  },
  {
   "cell_type": "code",
   "execution_count": 114,
   "metadata": {},
   "outputs": [
    {
     "name": "stdout",
     "output_type": "stream",
     "text": [
      "Extracted elements: [0.28159814 0.56748081 0.4578364 ]\n"
     ]
    }
   ],
   "source": [
    "# Extract specific elements from a 3D array using indices\n",
    "\n",
    "def extract_from_3d_array(arr, idx1, idx2, idx3):\n",
    "    return arr[idx1, idx2, idx3]\n",
    "\n",
    "arr = np.random.random((3, 4, 5))\n",
    "idx1 = np.array([0, 1, 2])\n",
    "idx2 = np.array([1, 2, 3])\n",
    "idx3 = np.array([2, 3, 4])\n",
    "\n",
    "print(\"Extracted elements:\", extract_from_3d_array(arr, idx1, idx2, idx3))"
   ]
  },
  {
   "cell_type": "code",
   "execution_count": 115,
   "metadata": {},
   "outputs": [
    {
     "name": "stdout",
     "output_type": "stream",
     "text": [
      "Filtered elements: [3 5 7]\n"
     ]
    }
   ],
   "source": [
    "# Return elements where both conditions are satisfied\n",
    "\n",
    "def filter_with_conditions(arr, cond1, cond2):\n",
    "    return arr[(arr > cond1) & (arr < cond2)]\n",
    "\n",
    "arr = np.array([1, 3, 5, 7, 9])\n",
    "cond1 = 2\n",
    "cond2 = 8\n",
    "\n",
    "print(\"Filtered elements:\", filter_with_conditions(arr, cond1, cond2))"
   ]
  },
  {
   "cell_type": "code",
   "execution_count": 116,
   "metadata": {},
   "outputs": [
    {
     "name": "stdout",
     "output_type": "stream",
     "text": [
      "Extracted elements: [3 4 8]\n"
     ]
    }
   ],
   "source": [
    "# Extract elements from a 2D array using row and column indices\n",
    "\n",
    "def extract_elements_by_rows_cols(arr, row_indices, col_indices):\n",
    "    return arr[row_indices, col_indices]\n",
    "\n",
    "arr = np.array([[1, 2, 3], [4, 5, 6], [7, 8, 9]])\n",
    "row_indices = np.array([0, 1, 2])\n",
    "col_indices = np.array([2, 0, 1])\n",
    "print(\"Extracted elements:\", extract_elements_by_rows_cols(arr, row_indices, col_indices))\n"
   ]
  },
  {
   "cell_type": "code",
   "execution_count": 117,
   "metadata": {},
   "outputs": [
    {
     "name": "stdout",
     "output_type": "stream",
     "text": [
      "Array after adding scalar: [[ 6  7  8]\n",
      " [ 9 10 11]\n",
      " [12 13 14]]\n"
     ]
    }
   ],
   "source": [
    "# Add a scalar value of 5 to each element using broadcasting\n",
    "\n",
    "def add_scalar(arr, scalar):\n",
    "    return arr + scalar\n",
    "\n",
    "arr = np.array([[1, 2, 3], [4, 5, 6], [7, 8, 9]])\n",
    "scalar = 5\n",
    "\n",
    "print(\"Array after adding scalar:\", add_scalar(arr, scalar))"
   ]
  },
  {
   "cell_type": "code",
   "execution_count": 118,
   "metadata": {},
   "outputs": [
    {
     "name": "stdout",
     "output_type": "stream",
     "text": [
      "Multiplied array: [[ 1  2  3  4]\n",
      " [10 12 14 16]\n",
      " [27 30 33 36]]\n"
     ]
    }
   ],
   "source": [
    "# 37. Multiply each row of arr2 by the corresponding element in arr1\n",
    "def multiply_rows_by_elements(arr1, arr2):\n",
    "    return arr1 * arr2\n",
    "\n",
    "arr1 = np.array([[1, 2, 3]])\n",
    "arr2 = np.array([[1, 2, 3, 4], [5, 6, 7, 8], [9, 10, 11, 12]])\n",
    "\n",
    "print(\"Multiplied array:\", multiply_rows_by_elements(arr1.T, arr2))\n"
   ]
  },
  {
   "cell_type": "code",
   "execution_count": 119,
   "metadata": {},
   "outputs": [
    {
     "name": "stdout",
     "output_type": "stream",
     "text": [
      "Array after addition: [[ 5  4  3]\n",
      " [ 3  2  1]\n",
      " [ 1  0 -1]\n",
      " [-1 -2 -3]]\n"
     ]
    }
   ],
   "source": [
    "# Add arr1 to each row of arr2\n",
    "def add_arr1_to_each_row(arr1, arr2):\n",
    "    return arr1 + arr2\n",
    "\n",
    "arr1 = np.array([[1, 2, 3, 4]])\n",
    "arr2 = np.array([[4, 3, 2], [1, 0, -1], [-2, -3, -4], [-5, -6, -7]])\n",
    "\n",
    "print(\"Array after addition:\", add_arr1_to_each_row(arr1, arr2.T).T)\n"
   ]
  },
  {
   "cell_type": "code",
   "execution_count": 120,
   "metadata": {},
   "outputs": [
    {
     "name": "stdout",
     "output_type": "stream",
     "text": [
      "Broadcasted addition: [[5 6 7]\n",
      " [6 7 8]\n",
      " [7 8 9]]\n"
     ]
    }
   ],
   "source": [
    "# . Add two arrays using broadcasting\n",
    "def add_with_broadcasting(arr1, arr2):\n",
    "    return arr1 + arr2\n",
    "\n",
    "arr1 = np.array([[1], [2], [3]])\n",
    "arr2 = np.array([[4, 5, 6]])\n",
    "\n",
    "print(\"Broadcasted addition:\", add_with_broadcasting(arr1, arr2))\n"
   ]
  },
  {
   "cell_type": "code",
   "execution_count": 121,
   "metadata": {},
   "outputs": [
    {
     "name": "stdout",
     "output_type": "stream",
     "text": [
      "Broadcasted multiplication: operands could not be broadcast together with shapes (2,3) (2,2) \n"
     ]
    }
   ],
   "source": [
    "# Handle shape incompatibility during broadcasting\n",
    "def multiply_with_broadcasting(arr1, arr2):\n",
    "    try:\n",
    "        return arr1 * arr2\n",
    "    except ValueError as e:\n",
    "        return str(e)\n",
    "\n",
    "arr1 = np.array([[1, 2, 3], [4, 5, 6]])\n",
    "arr2 = np.array([[7, 8], [9, 10]])\n",
    "\n",
    "print(\"Broadcasted multiplication:\", multiply_with_broadcasting(arr1, arr2))\n"
   ]
  },
  {
   "cell_type": "code",
   "execution_count": 122,
   "metadata": {},
   "outputs": [
    {
     "name": "stdout",
     "output_type": "stream",
     "text": [
      "Column-wise mean: [2.5 3.5 4.5]\n"
     ]
    }
   ],
   "source": [
    "# Calculate column-wise mean\n",
    "def column_wise_mean(arr):\n",
    "    return np.mean(arr, axis=0)\n",
    "\n",
    "arr = np.array([[1, 2, 3], [4, 5, 6]])\n",
    "\n",
    "print(\"Column-wise mean:\", column_wise_mean(arr))\n"
   ]
  },
  {
   "cell_type": "code",
   "execution_count": 123,
   "metadata": {},
   "outputs": [
    {
     "name": "stdout",
     "output_type": "stream",
     "text": [
      "Max in each row: [3 6]\n"
     ]
    }
   ],
   "source": [
    "#  Find maximum value in each row\n",
    "def max_in_rows(arr):\n",
    "    return np.max(arr, axis=1)\n",
    "\n",
    "arr = np.array([[1, 2, 3], [4, 5, 6]])\n",
    "\n",
    "print(\"Max in each row:\", max_in_rows(arr))\n"
   ]
  },
  {
   "cell_type": "code",
   "execution_count": 124,
   "metadata": {},
   "outputs": [
    {
     "name": "stdout",
     "output_type": "stream",
     "text": [
      "Indices of max in each column: [1 1 1]\n"
     ]
    }
   ],
   "source": [
    "# Find indices of maximum value in each column\n",
    "def indices_max_in_columns(arr):\n",
    "    return np.argmax(arr, axis=0)\n",
    "\n",
    "arr = np.array([[1, 2, 3], [4, 5, 6]])\n",
    "\n",
    "print(\"Indices of max in each column:\", indices_max_in_columns(arr))\n"
   ]
  },
  {
   "cell_type": "code",
   "execution_count": 125,
   "metadata": {},
   "outputs": [
    {
     "name": "stdout",
     "output_type": "stream",
     "text": [
      "Moving sum along rows: [[ 3  5]\n",
      " [ 9 11]]\n"
     ]
    }
   ],
   "source": [
    "# . Calculate moving sum along rows\n",
    "def moving_sum(arr, window_size):\n",
    "    result = np.apply_along_axis(lambda x: np.convolve(x, np.ones(window_size, dtype=int), 'valid'), axis=1, arr=arr)\n",
    "    return result\n",
    "\n",
    "arr = np.array([[1, 2, 3], [4, 5, 6]])\n",
    "\n",
    "print(\"Moving sum along rows:\", moving_sum(arr, 2))\n"
   ]
  },
  {
   "cell_type": "code",
   "execution_count": 126,
   "metadata": {},
   "outputs": [
    {
     "name": "stdout",
     "output_type": "stream",
     "text": [
      "All elements even in each column: [False False False]\n"
     ]
    }
   ],
   "source": [
    "# Check if all elements in each column are even\n",
    "def check_even_columns(arr):\n",
    "    return np.all(arr % 2 == 0, axis=0)\n",
    "\n",
    "arr = np.array([[2, 4, 6], [3, 5, 7]])\n",
    "\n",
    "print(\"All elements even in each column:\", check_even_columns(arr))\n"
   ]
  },
  {
   "cell_type": "code",
   "execution_count": 127,
   "metadata": {},
   "outputs": [
    {
     "name": "stdout",
     "output_type": "stream",
     "text": [
      "Reshaped array: [[1 2 3]\n",
      " [4 5 6]]\n"
     ]
    }
   ],
   "source": [
    "# Reshape array into a matrix\n",
    "def reshape_array(arr, m, n):\n",
    "    return arr.reshape((m, n))\n",
    "\n",
    "original_array = np.array([1, 2, 3, 4, 5, 6])\n",
    "\n",
    "print(\"Reshaped array:\", reshape_array(original_array, 2, 3))\n"
   ]
  },
  {
   "cell_type": "code",
   "execution_count": 128,
   "metadata": {},
   "outputs": [
    {
     "name": "stdout",
     "output_type": "stream",
     "text": [
      "Flattened array: [1 2 3 4 5 6]\n"
     ]
    }
   ],
   "source": [
    "# Return flattened array\n",
    "def flatten_matrix(matrix):\n",
    "    return matrix.flatten()\n",
    "\n",
    "input_matrix = np.array([[1, 2, 3], [4, 5, 6]])\n",
    "\n",
    "print(\"Flattened array:\", flatten_matrix(input_matrix))\n"
   ]
  },
  {
   "cell_type": "code",
   "execution_count": 129,
   "metadata": {},
   "outputs": [
    {
     "name": "stdout",
     "output_type": "stream",
     "text": [
      "Concatenated arrays along axis 0: [[1 2]\n",
      " [3 4]\n",
      " [5 6]\n",
      " [7 8]]\n",
      "Concatenated arrays along axis 1: [[1 2 5 6]\n",
      " [3 4 7 8]]\n"
     ]
    }
   ],
   "source": [
    "# Concatenate two arrays along a specified axis\n",
    "def concatenate_arrays(array1, array2, axis=0):\n",
    "    return np.concatenate((array1, array2), axis=axis)\n",
    "\n",
    "array1 = np.array([[1, 2], [3, 4]])\n",
    "array2 = np.array([[5, 6], [7, 8]])\n",
    "\n",
    "print(\"Concatenated arrays along axis 0:\", concatenate_arrays(array1, array2, axis=0))\n",
    "print(\"Concatenated arrays along axis 1:\", concatenate_arrays(array1, array2, axis=1))\n"
   ]
  },
  {
   "cell_type": "code",
   "execution_count": 130,
   "metadata": {},
   "outputs": [
    {
     "name": "stdout",
     "output_type": "stream",
     "text": [
      "Split arrays along axis 0: [array([[1, 2, 3]]), array([[4, 5, 6]]), array([[7, 8, 9]])]\n",
      "Split arrays along axis 1: [array([[1],\n",
      "       [4],\n",
      "       [7]]), array([[2],\n",
      "       [5],\n",
      "       [8]]), array([[3],\n",
      "       [6],\n",
      "       [9]])]\n"
     ]
    }
   ],
   "source": [
    "# Split an array into multiple sub-arrays\n",
    "def split_array(original_array, num_splits, axis=0):\n",
    "    return np.array_split(original_array, num_splits, axis=axis)\n",
    "\n",
    "original_array = np.array([[1, 2, 3], [4, 5, 6], [7, 8, 9]])\n",
    "\n",
    "print(\"Split arrays along axis 0:\", split_array(original_array, 3, axis=0))\n",
    "print(\"Split arrays along axis 1:\", split_array(original_array, 3, axis=1))\n"
   ]
  },
  {
   "cell_type": "code",
   "execution_count": 131,
   "metadata": {},
   "outputs": [
    {
     "name": "stdout",
     "output_type": "stream",
     "text": [
      "Array after insertion and deletion: [ 1 10  4 11  5]\n"
     ]
    }
   ],
   "source": [
    "\n",
    "#  Insert and then delete elements from an array\n",
    "def insert_and_delete_elements(original_array, indices_to_insert, values_to_insert, indices_to_delete):\n",
    "    new_array = np.insert(original_array, indices_to_insert, values_to_insert)\n",
    "    new_array = np.delete(new_array, indices_to_delete)\n",
    "    return new_array\n",
    "\n",
    "original_array = np.array([1, 2, 3, 4, 5])\n",
    "indices_to_insert = [2, 4]\n",
    "values_to_insert = [10, 11]\n",
    "indices_to_delete = [1, 3]\n",
    "\n",
    "print(\"Array after insertion and deletion:\", insert_and_delete_elements(original_array, indices_to_insert, values_to_insert, indices_to_delete))\n"
   ]
  },
  {
   "cell_type": "code",
   "execution_count": 132,
   "metadata": {},
   "outputs": [
    {
     "name": "stdout",
     "output_type": "stream",
     "text": [
      "Element-wise addition [ 6  8 12 13  9  8 15 11 17 13]\n"
     ]
    }
   ],
   "source": [
    "# Perform element-wise addition between two arrays\n",
    "def element_wise_addition(arr1, arr2):\n",
    "    return arr1 + arr2\n",
    "\n",
    "arr1 = np.random.randint(1, 10, size=10)\n",
    "arr2 = np.arange(1, 11)\n",
    "\n",
    "print(\"Element-wise addition\", element_wise_addition(arr1, arr2))\n"
   ]
  },
  {
   "cell_type": "code",
   "execution_count": 133,
   "metadata": {},
   "outputs": [
    {
     "name": "stdout",
     "output_type": "stream",
     "text": [
      "Element-wise division: [2. 2. 2. 2. 2.]\n"
     ]
    }
   ],
   "source": [
    "# Perform element-wise division of two arrays\n",
    "def element_wise_division(arr1, arr2):\n",
    "    return arr1 / arr2\n",
    "\n",
    "arr1 = np.arange(2, 12, 2)\n",
    "arr2 = np.arange(1, 6)\n",
    "\n",
    "print(\"Element-wise division:\", element_wise_division(arr1, arr2))\n"
   ]
  },
  {
   "cell_type": "code",
   "execution_count": 134,
   "metadata": {},
   "outputs": [
    {
     "name": "stdout",
     "output_type": "stream",
     "text": [
      "Element-wise exponentiation: [ 1 16 27 16  5]\n"
     ]
    }
   ],
   "source": [
    "# Calculate element-wise exponentiation\n",
    "def element_wise_exponentiation(arr1, arr2):\n",
    "    return np.power(arr1, arr2)\n",
    "\n",
    "arr1 = np.array([1, 2, 3, 4, 5])\n",
    "arr2 = np.array([5, 4, 3, 2, 1])\n",
    "\n",
    "print(\"Element-wise exponentiation:\", element_wise_exponentiation(arr1, arr2))\n"
   ]
  },
  {
   "cell_type": "code",
   "execution_count": 135,
   "metadata": {},
   "outputs": [
    {
     "name": "stdout",
     "output_type": "stream",
     "text": [
      "Occurrences of substring: [1 0 1 0 1]\n"
     ]
    }
   ],
   "source": [
    "#  Count occurrences of a specific substring\n",
    "def count_substring_occurrences(arr, substring):\n",
    "    return np.char.count(arr, substring)\n",
    "\n",
    "arr = np.array(['hello', 'world', 'hello', 'numpy', 'hello'])\n",
    "substring = 'hello'\n",
    "\n",
    "print(\"Occurrences of substring:\", count_substring_occurrences(arr, substring))\n"
   ]
  },
  {
   "cell_type": "code",
   "execution_count": 136,
   "metadata": {},
   "outputs": [
    {
     "name": "stdout",
     "output_type": "stream",
     "text": [
      "Uppercase characters: ['H' 'W' 'OAI' 'GPT']\n"
     ]
    }
   ],
   "source": [
    "#  Extract uppercase characters\n",
    "def extract_uppercase_chars(arr):\n",
    "    return np.array([''.join([char for char in string if char.isupper()]) for string in arr])\n",
    "\n",
    "arr = np.array(['Hello', 'World', 'OpenAI', 'GPT'])\n",
    "\n",
    "print(\"Uppercase characters:\", extract_uppercase_chars(arr))\n"
   ]
  },
  {
   "cell_type": "code",
   "execution_count": 137,
   "metadata": {},
   "outputs": [
    {
     "name": "stdout",
     "output_type": "stream",
     "text": [
      "Replaced substrings: ['orange' 'banana' 'grape' 'pineorange']\n"
     ]
    }
   ],
   "source": [
    "# Replace occurrences of a substring\n",
    "def replace_substring(arr, old_substring, new_substring):\n",
    "    return np.char.replace(arr, old_substring, new_substring)\n",
    "\n",
    "arr = np.array(['apple', 'banana', 'grape', 'pineapple'])\n",
    "old_substring = 'apple'\n",
    "new_substring = 'orange'\n",
    "\n",
    "print(\"Replaced substrings:\", replace_substring(arr, old_substring, new_substring))\n"
   ]
  },
  {
   "cell_type": "code",
   "execution_count": 138,
   "metadata": {},
   "outputs": [
    {
     "name": "stdout",
     "output_type": "stream",
     "text": [
      "Concatenated strings: ['HelloOpen' 'WorldAI']\n"
     ]
    }
   ],
   "source": [
    "# Concatenate strings element-wise\n",
    "def concatenate_strings(arr1, arr2):\n",
    "    return np.char.add(arr1, arr2)\n",
    "\n",
    "arr1 = np.array(['Hello', 'World'])\n",
    "arr2 = np.array(['Open', 'AI'])\n",
    "\n",
    "print(\"Concatenated strings:\", concatenate_strings(arr1, arr2))\n"
   ]
  },
  {
   "cell_type": "code",
   "execution_count": 139,
   "metadata": {},
   "outputs": [
    {
     "name": "stdout",
     "output_type": "stream",
     "text": [
      "Length of the longest string: 9\n"
     ]
    }
   ],
   "source": [
    "# Find the length of the longest string\n",
    "def length_of_longest_string(arr):\n",
    "    return np.max(np.char.str_len(arr))\n",
    "\n",
    "arr = np.array(['apple', 'banana', 'grape', 'pineapple'])\n",
    "\n",
    "print(\"Length of the longest string:\", length_of_longest_string(arr))\n"
   ]
  },
  {
   "cell_type": "code",
   "execution_count": 140,
   "metadata": {},
   "outputs": [
    {
     "data": {
      "text/plain": [
       "(549.76, 560.0, 84921.84239999998, 291.413524737614)"
      ]
     },
     "execution_count": 140,
     "metadata": {},
     "output_type": "execute_result"
    }
   ],
   "source": [
    "# Create a dataset of 100 random integers between 1 and 1000. Compute the mean, median, variance, and standard deviation.\n",
    "import numpy as np\n",
    "\n",
    "\n",
    "data_61 = np.random.randint(1, 1001, size=100)\n",
    "mean_61 = np.mean(data_61)\n",
    "median_61 = np.median(data_61)\n",
    "variance_61 = np.var(data_61)\n",
    "std_deviation_61 = np.std(data_61)\n",
    "\n",
    "mean_61, median_61, variance_61, std_deviation_61\n"
   ]
  },
  {
   "cell_type": "code",
   "execution_count": 141,
   "metadata": {},
   "outputs": [
    {
     "data": {
      "text/plain": [
       "(27.97305647216291, 75.8370791398221)"
      ]
     },
     "execution_count": 141,
     "metadata": {},
     "output_type": "execute_result"
    }
   ],
   "source": [
    "# Generate an array of 50 random numbers between 1 and 100. Find the 25th and 75th percentiles.\n",
    "\n",
    "# Task 62\n",
    "data_62 = np.random.uniform(1, 100, size=50)\n",
    "percentile_25_62 = np.percentile(data_62, 25)\n",
    "percentile_75_62 = np.percentile(data_62, 75)\n",
    "\n",
    "percentile_25_62, percentile_75_62\n"
   ]
  },
  {
   "cell_type": "code",
   "execution_count": 142,
   "metadata": {},
   "outputs": [
    {
     "data": {
      "text/plain": [
       "array([[ 1.        , -0.12688944],\n",
       "       [-0.12688944,  1.        ]])"
      ]
     },
     "execution_count": 142,
     "metadata": {},
     "output_type": "execute_result"
    }
   ],
   "source": [
    "# Create two arrays representing two sets of variables. Compute the correlation coefficient.\n",
    "# Task 63\n",
    "array1_63 = np.random.rand(100)\n",
    "array2_63 = np.random.rand(100)\n",
    "correlation_coefficient_63 = np.corrcoef(array1_63, array2_63)\n",
    "\n",
    "correlation_coefficient_63\n"
   ]
  },
  {
   "cell_type": "code",
   "execution_count": null,
   "metadata": {},
   "outputs": [
    {
     "data": {
      "text/plain": [
       "array([[100, 122,  85],\n",
       "       [136, 155, 105],\n",
       "       [126, 129,  83]])"
      ]
     },
     "execution_count": 29,
     "metadata": {},
     "output_type": "execute_result"
    }
   ],
   "source": [
    "# Create two matrices and perform matrix multiplication.\n",
    "# Task 64\n",
    "matrix1_64 = np.random.randint(1, 10, size=(3, 3))\n",
    "matrix2_64 = np.random.randint(1, 10, size=(3, 3))\n",
    "matrix_multiplication_64 = np.dot(matrix1_64, matrix2_64)\n",
    "\n",
    "matrix_multiplication_64\n",
    "\n"
   ]
  },
  {
   "cell_type": "code",
   "execution_count": null,
   "metadata": {},
   "outputs": [],
   "source": [
    "# Create an array of 50 integers between 10 and 1000. Calculate percentiles and quartiles.\n",
    "# Task 65\n",
    "data_65 = np.random.randint(10, 1001, size=50)\n",
    "percentile_10_65 = np.percentile(data_65, 10)\n",
    "median_65 = np.percentile(data_65, 50)\n",
    "percentile_90_65 = np.percentile(data_65, 90)\n",
    "first_quartile_65 = np.percentile(data_65, 25)\n",
    "third_quartile_65 = np.percentile(data_65, 75)\n",
    "\n",
    "percentile_10_65, median_65, percentile_90_65, first_quartile_65, third_quartile_65\n"
   ]
  },
  {
   "cell_type": "code",
   "execution_count": null,
   "metadata": {},
   "outputs": [],
   "source": [
    "# Create a NumPy array of integers and find the index of a specific element.\n",
    "# Task 66\n",
    "array_66 = np.array([5, 10, 15, 20, 25])\n",
    "index_66 = np.where(array_66 == 15)[0][0]\n",
    "\n",
    "index_66\n"
   ]
  },
  {
   "cell_type": "code",
   "execution_count": null,
   "metadata": {},
   "outputs": [],
   "source": [
    "# generate a random NumPy array and sort it in ascending order.\n",
    "# Task 67\n",
    "array_67 = np.random.rand(10)\n",
    "sorted_array_67 = np.sort(array_67)\n",
    "\n",
    "sorted_array_67\n"
   ]
  },
  {
   "cell_type": "code",
   "execution_count": null,
   "metadata": {},
   "outputs": [],
   "source": [
    "# Filter elements > 20 in the given NumPy array.\n",
    "# Task 68\n",
    "arr_68 = np.array([12, 25, 6, 42, 8, 30])\n",
    "filtered_arr_68 = arr_68[arr_68 > 20]\n",
    "\n",
    "filtered_arr_68\n"
   ]
  },
  {
   "cell_type": "code",
   "execution_count": null,
   "metadata": {},
   "outputs": [],
   "source": [
    "# Filter elements which are divisible by 3\n",
    "# Task 69\n",
    "arr_69 = np.array([1, 5, 8, 12, 15])\n",
    "filtered_arr_69 = arr_69[arr_69 % 3 == 0]\n",
    "\n",
    "filtered_arr_69\n"
   ]
  },
  {
   "cell_type": "code",
   "execution_count": null,
   "metadata": {},
   "outputs": [],
   "source": [
    "# Filter elements which are ≥ 20 and ≤ 40\n",
    "# Task 70\n",
    "arr_70 = np.array([10, 20, 30, 40, 50])\n",
    "filtered_arr_70 = arr_70[(arr_70 >= 20) & (arr_70 <= 40)]\n",
    "\n",
    "filtered_arr_70\n"
   ]
  },
  {
   "cell_type": "code",
   "execution_count": null,
   "metadata": {},
   "outputs": [],
   "source": [
    "# Check the byte order of a given NumPy array.\n",
    "# Task 71\n",
    "arr_71 = np.array([1, 2, 3])\n",
    "byte_order_71 = arr_71.dtype.byteorder\n",
    "\n",
    "byte_order_71\n",
    "\n"
   ]
  },
  {
   "cell_type": "code",
   "execution_count": null,
   "metadata": {},
   "outputs": [],
   "source": [
    "# Perform byte swapping in place.\n",
    "# Task 72\n",
    "arr_72 = np.array([1, 2, 3], dtype=np.int32)\n",
    "arr_72.byteswap(True)\n",
    "\n",
    "arr_72\n"
   ]
  },
  {
   "cell_type": "code",
   "execution_count": null,
   "metadata": {},
   "outputs": [],
   "source": [
    "# Swap byte order without modifying the original array.\n",
    "# Task 73\n",
    "arr_73 = np.array([1, 2, 3], dtype=np.int32)\n",
    "swapped_arr_73 = arr_73.newbyteorder()\n",
    "\n",
    "swapped_arr_73\n"
   ]
  },
  {
   "cell_type": "code",
   "execution_count": null,
   "metadata": {},
   "outputs": [],
   "source": [
    "# Swap byte order conditionally based on system endianness.\n",
    "# Task 74\n",
    "arr_74 = np.array([1, 2, 3], dtype=np.int32)\n",
    "swapped_arr_74 = arr_74.newbyteorder('=')\n",
    "\n",
    "swapped_arr_74\n"
   ]
  },
  {
   "cell_type": "code",
   "execution_count": null,
   "metadata": {},
   "outputs": [],
   "source": [
    "# Check if byte swapping is necessary for the current system.\n",
    "# Task 75\n",
    "arr_75 = np.array([1, 2, 3], dtype=np.int32)\n",
    "byte_swap_needed_75 = arr_75.dtype.byteorder not in ('=', '|')\n",
    "\n",
    "byte_swap_needed_75\n"
   ]
  },
  {
   "cell_type": "code",
   "execution_count": null,
   "metadata": {},
   "outputs": [],
   "source": [
    "# Create a copy of arr1 and modify an element in copy_arr.\n",
    "# Task 76\n",
    "arr1_76 = np.arange(1, 11)\n",
    "copy_arr_76 = arr1_76.copy()\n",
    "copy_arr_76[0] = 100\n",
    "\n",
    "arr1_76, copy_arr_76\n"
   ]
  },
  {
   "cell_type": "code",
   "execution_count": null,
   "metadata": {},
   "outputs": [],
   "source": [
    "# Extract a slice from the matrix and modify an element.\n",
    "# Task 77\n",
    "matrix_77 = np.random.randint(1, 10, size=(3, 3))\n",
    "view_slice_77 = matrix_77[:2, :2]\n",
    "view_slice_77[0, 0] = 100\n",
    "\n",
    "matrix_77, view_slice_77\n"
   ]
  },
  {
   "cell_type": "code",
   "execution_count": null,
   "metadata": {},
   "outputs": [],
   "source": [
    "# Extract a slice and broadcast the addition of 5.\n",
    "# Task 78\n",
    "array_a_78 = np.arange(1, 13).reshape(4, 3)\n",
    "view_b_78 = array_a_78[:, 1:2]\n",
    "view_b_78 += 5\n",
    "\n",
    "array_a_78, view_b_78\n"
   ]
  },
  {
   "cell_type": "code",
   "execution_count": null,
   "metadata": {},
   "outputs": [],
   "source": [
    "# Create a reshaped view and modify an element.\n",
    "# Task 79\n",
    "orig_array_79 = np.arange(1, 9).reshape(2, 4)\n",
    "reshaped_view_79 = orig_array_79.reshape(4, 2)\n",
    "reshaped_view_79[0, 0] = 100\n",
    "\n",
    "orig_array_79, reshaped_view_79\n"
   ]
  },
  {
   "cell_type": "code",
   "execution_count": null,
   "metadata": {},
   "outputs": [],
   "source": [
    "# Extract a copy of elements greater than 5 and modify an element.\n",
    "# Task 80\n",
    "data_80 = np.random.randint(1, 10, size=(3, 4))\n",
    "data_copy_80 = data_80[data_80 > 5].copy()\n",
    "data_copy_80[0] = 100\n",
    "\n",
    "data_80, data_copy_80\n"
   ]
  },
  {
   "cell_type": "code",
   "execution_count": null,
   "metadata": {},
   "outputs": [],
   "source": [
    "# Perform addition and subtraction operations between two matrices.\n",
    "# Task 81\n",
    "A_81 = np.random.randint(1, 10, size=(3, 3))\n",
    "B_81 = np.random.randint(1, 10, size=(3, 3))\n",
    "addition_81 = A_81 + B_81\n",
    "subtraction_81 = A_81 - B_81\n",
    "\n",
    "addition_81, subtraction_81\n"
   ]
  },
  {
   "cell_type": "code",
   "execution_count": null,
   "metadata": {},
   "outputs": [],
   "source": [
    "# Perform matrix multiplication between two matrices.\n",
    "# Task 82\n",
    "C_82 = np.random.randint(1, 10, size=(3, 2))\n",
    "D_82 = np.random.randint(1, 10, size=(2, 4))\n",
    "matrix_multiplication_82 = np.dot(C_82, D_82)\n",
    "\n",
    "matrix_multiplication_82\n"
   ]
  },
  {
   "cell_type": "code",
   "execution_count": null,
   "metadata": {},
   "outputs": [],
   "source": [
    "# Find the transpose of a matrix.\n",
    "# Task 83\n",
    "E_83 = np.random.randint(1, 10, size=(3, 3))\n",
    "transpose_E_83 = E_83.T\n",
    "\n",
    "transpose_E_83\n"
   ]
  },
  {
   "cell_type": "code",
   "execution_count": null,
   "metadata": {},
   "outputs": [],
   "source": [
    "# Compute the determinant of a square matrix.\n",
    "# Task 84\n",
    "F_84 = np.random.randint(1, 10, size=(3, 3))\n",
    "determinant_F_84 = np.linalg.det(F_84)\n",
    "\n",
    "determinant_F_84\n"
   ]
  },
  {
   "cell_type": "code",
   "execution_count": null,
   "metadata": {},
   "outputs": [],
   "source": [
    "# Find the inverse of a square matrix.\n",
    "# Task 85\n",
    "G_85 = np.random.randint(1, 10, size=(3, 3))\n",
    "inverse_G_85 = np.linalg.inv(G_85)\n",
    "\n",
    "inverse_G_85\n"
   ]
  },
  {
   "cell_type": "code",
   "execution_count": null,
   "metadata": {},
   "outputs": [],
   "source": []
  },
  {
   "cell_type": "code",
   "execution_count": null,
   "metadata": {},
   "outputs": [],
   "source": []
  },
  {
   "cell_type": "code",
   "execution_count": null,
   "metadata": {},
   "outputs": [],
   "source": []
  }
 ],
 "metadata": {
  "kernelspec": {
   "display_name": "Python 3",
   "language": "python",
   "name": "python3"
  },
  "language_info": {
   "codemirror_mode": {
    "name": "ipython",
    "version": 3
   },
   "file_extension": ".py",
   "mimetype": "text/x-python",
   "name": "python",
   "nbconvert_exporter": "python",
   "pygments_lexer": "ipython3",
   "version": "3.10.11"
  }
 },
 "nbformat": 4,
 "nbformat_minor": 2
}
